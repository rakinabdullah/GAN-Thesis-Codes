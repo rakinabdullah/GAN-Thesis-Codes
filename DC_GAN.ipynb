{
  "cells": [
    {
      "cell_type": "code",
      "execution_count": null,
      "id": "1be16ba3",
      "metadata": {
        "id": "1be16ba3",
        "outputId": "86903cb6-9ab4-4855-98ca-e67bfd7fd972"
      },
      "outputs": [
        {
          "name": "stdout",
          "output_type": "stream",
          "text": [
            "Num GPUs Available:  1\n"
          ]
        }
      ],
      "source": [
        "import tensorflow as tf\n",
        "print(\"Num GPUs Available: \", len(tf.config.list_physical_devices('GPU')))"
      ]
    },
    {
      "cell_type": "code",
      "execution_count": null,
      "id": "3ce92bd3",
      "metadata": {
        "id": "3ce92bd3"
      },
      "outputs": [],
      "source": [
        "import os\n",
        "import numpy as np\n",
        "import cv2\n",
        "from glob import glob\n",
        "from matplotlib import pyplot\n",
        "from sklearn.utils import shuffle\n",
        "import tensorflow as tf\n",
        "from tensorflow.keras.layers import *\n",
        "from tensorflow.keras.models import Model\n",
        "from tensorflow.keras.optimizers import Adam\n",
        "from sklearn.model_selection import train_test_split"
      ]
    },
    {
      "cell_type": "markdown",
      "id": "1a0b9b6c",
      "metadata": {
        "id": "1a0b9b6c"
      },
      "source": [
        "## Resizing the dataset "
      ]
    },
    {
      "cell_type": "code",
      "execution_count": null,
      "id": "c105ffc6",
      "metadata": {
        "id": "c105ffc6",
        "outputId": "bcc17a53-fd78-4f18-992c-3e9ad196b986"
      },
      "outputs": [
        {
          "name": "stdout",
          "output_type": "stream",
          "text": [
            "* Created directory: D:/18201142/dataset/OCT/train_resized\n",
            "* Created directory: D:/18201142/dataset/OCT/train_resized/CNV\n"
          ]
        },
        {
          "name": "stderr",
          "output_type": "stream",
          "text": [
            "C:\\Users\\18201142\\AppData\\Local\\Temp\\ipykernel_23780\\3259341809.py:20: DeprecationWarning: ANTIALIAS is deprecated and will be removed in Pillow 10 (2023-07-01). Use Resampling.LANCZOS instead.\n",
            "  imResize = im.resize((28,28),Image.ANTIALIAS)\n"
          ]
        },
        {
          "name": "stdout",
          "output_type": "stream",
          "text": [
            "***** Completed Resizing Images *****\n",
            "* Created directory: D:/18201142/dataset/OCT/train_resized/DME\n",
            "***** Completed Resizing Images *****\n",
            "* Created directory: D:/18201142/dataset/OCT/train_resized/DRUSEN\n",
            "***** Completed Resizing Images *****\n",
            "* Created directory: D:/18201142/dataset/OCT/train_resized/NORMAL\n",
            "***** Completed Resizing Images *****\n"
          ]
        }
      ],
      "source": [
        "from PIL import Image\n",
        "import os, sys\n",
        "\n",
        "main_path = \"D:/18201142/dataset/OCT\" + \"/train\"\n",
        "# main_path = \"C:/Users/18201142/Downloads/OCT2017\" + \"/test\"\n",
        "\n",
        "\n",
        "def directory(path: str):\n",
        "    if not os.path.exists(path):\n",
        "        os.mkdir(path)\n",
        "        print(f\"* Created directory: {path}\")\n",
        "\n",
        "\n",
        "def resize_images(img_path: str, out_path: str):\n",
        "    directory(out_path)\n",
        "    for img in os.listdir(img_path):\n",
        "        img_file = f\"{img_path}/{img}\"\n",
        "        if os.path.isfile(img_file):\n",
        "            im = Image.open(img_file)\n",
        "            imResize = im.resize((28,28),Image.ANTIALIAS)\n",
        "            imResize.save(f\"{out_path}/{img}\", \"JPEG\", quality=100)\n",
        "    print(f\"***** Completed Resizing Images *****\")\n",
        "\n",
        "\n",
        "for label in os.listdir(main_path):\n",
        "    output_path = f\"{main_path+'_resized'}\"\n",
        "    directory(f\"{output_path}\")\n",
        "    resize_images(f\"{main_path}/{label}\", f\"{output_path}/{label}\")"
      ]
    },
    {
      "cell_type": "code",
      "execution_count": null,
      "id": "6b8c8f17",
      "metadata": {
        "id": "6b8c8f17",
        "outputId": "e2891486-170f-48cf-e4db-49bc7ea0e7ae"
      },
      "outputs": [
        {
          "name": "stdout",
          "output_type": "stream",
          "text": [
            "* Converted to D:/18201142/dataset/OCT/train_resized/CNV `.npz`\n",
            "* Converted to D:/18201142/dataset/OCT/train_resized/DME `.npz`\n",
            "* Converted to D:/18201142/dataset/OCT/train_resized/DRUSEN `.npz`\n",
            "* Converted to D:/18201142/dataset/OCT/train_resized/NORMAL `.npz`\n",
            "Dataset converted to npz and saved here at C:/Users/18201142/Downloads/OCT/train_to_npz_compressed \n"
          ]
        },
        {
          "data": {
            "text/html": [
              "<div>\n",
              "<style scoped>\n",
              "    .dataframe tbody tr th:only-of-type {\n",
              "        vertical-align: middle;\n",
              "    }\n",
              "\n",
              "    .dataframe tbody tr th {\n",
              "        vertical-align: top;\n",
              "    }\n",
              "\n",
              "    .dataframe thead th {\n",
              "        text-align: right;\n",
              "    }\n",
              "</style>\n",
              "<table border=\"1\" class=\"dataframe\">\n",
              "  <thead>\n",
              "    <tr style=\"text-align: right;\">\n",
              "      <th></th>\n",
              "      <th>image</th>\n",
              "      <th>label</th>\n",
              "    </tr>\n",
              "  </thead>\n",
              "  <tbody>\n",
              "    <tr>\n",
              "      <th>0</th>\n",
              "      <td>CNV/CNV-4612183-46.npz</td>\n",
              "      <td>CNV</td>\n",
              "    </tr>\n",
              "    <tr>\n",
              "      <th>1</th>\n",
              "      <td>CNV/CNV-4612183-47.npz</td>\n",
              "      <td>CNV</td>\n",
              "    </tr>\n",
              "    <tr>\n",
              "      <th>2</th>\n",
              "      <td>CNV/CNV-4612183-48.npz</td>\n",
              "      <td>CNV</td>\n",
              "    </tr>\n",
              "    <tr>\n",
              "      <th>3</th>\n",
              "      <td>CNV/CNV-4612183-49.npz</td>\n",
              "      <td>CNV</td>\n",
              "    </tr>\n",
              "    <tr>\n",
              "      <th>4</th>\n",
              "      <td>CNV/CNV-4612183-50.npz</td>\n",
              "      <td>CNV</td>\n",
              "    </tr>\n",
              "  </tbody>\n",
              "</table>\n",
              "</div>"
            ],
            "text/plain": [
              "                    image label\n",
              "0  CNV/CNV-4612183-46.npz   CNV\n",
              "1  CNV/CNV-4612183-47.npz   CNV\n",
              "2  CNV/CNV-4612183-48.npz   CNV\n",
              "3  CNV/CNV-4612183-49.npz   CNV\n",
              "4  CNV/CNV-4612183-50.npz   CNV"
            ]
          },
          "execution_count": 2,
          "metadata": {},
          "output_type": "execute_result"
        }
      ],
      "source": [
        "import numpy as np\n",
        "import os\n",
        "from tensorflow.keras.preprocessing.image import img_to_array, load_img\n",
        "import pandas as pd\n",
        "\n",
        "COMPRESSED = True\n",
        "image_dataset_dir = r\"D:/18201142/dataset/OCT/train_resized\"\n",
        "new_dataset_folder = r\"C:/Users/18201142/Downloads/OCT/train_to_npz\" + \"_compressed\" if COMPRESSED else \"\"\n",
        "\n",
        "dataset = {\n",
        "    \"image\" :[],\n",
        "    \"label\" : []\n",
        "}\n",
        "\n",
        "for label in os.listdir(image_dataset_dir):\n",
        "    images_dir = f\"{image_dataset_dir}/{label}\"\n",
        "    if not os.path.isdir(images_dir):\n",
        "        continue\n",
        "    for image_file in os.listdir(images_dir):\n",
        "        if not image_file.endswith(\".jpeg\"):\n",
        "            continue\n",
        "        img = load_img(os.path.join(image_dataset_dir, label, image_file))\n",
        "        x = img_to_array(img)\n",
        "\n",
        "        rel_path = label + \"/\" + os.path.splitext(image_file)[0] + '.npz'\n",
        "        os.makedirs(new_dataset_folder + \"/\" + label, exist_ok=True)\n",
        "        npz_file = os.path.join(new_dataset_folder, rel_path)\n",
        "        # True: Compressed, False: UnCompressed\n",
        "        if COMPRESSED:\n",
        "            np.savez_compressed(npz_file, x)\n",
        "        else:\n",
        "            np.savez(npz_file, x)\n",
        "        dataset[\"image\"].append(rel_path)\n",
        "        dataset[\"label\"].append(label)\n",
        "    print(f\"* Converted to {images_dir} `.npz`\")\n",
        "\n",
        "\n",
        "df = pd.DataFrame(dataset)\n",
        "df.to_csv(os.path.join(new_dataset_folder, \"train.csv\"), index=False)\n",
        "\n",
        "print('Dataset converted to npz and saved here at %s '%new_dataset_folder)\n",
        "\n",
        "df.head()"
      ]
    },
    {
      "cell_type": "markdown",
      "id": "3143fd33",
      "metadata": {
        "id": "3143fd33"
      },
      "source": [
        "## Test dataset"
      ]
    },
    {
      "cell_type": "code",
      "execution_count": null,
      "id": "fa2c577c",
      "metadata": {
        "id": "fa2c577c"
      },
      "outputs": [],
      "source": [
        "from PIL import Image\n",
        "import os, sys\n",
        "\n",
        "main_path = \"D:/18201142/dataset/OCT2017\" + \"/test\"\n",
        "\n",
        "def directory(path: str):\n",
        "    if not os.path.exists(path):\n",
        "        os.mkdir(path)\n",
        "        print(f\"* Created directory: {path}\")\n",
        "\n",
        "\n",
        "def resize_images(img_path: str, out_path: str):\n",
        "    directory(out_path)\n",
        "    for img in os.listdir(img_path):\n",
        "        img_file = f\"{img_path}/{img}\"\n",
        "        if os.path.isfile(img_file):\n",
        "            im = Image.open(img_file)\n",
        "            imResize = im.resize((256,256),Image.ANTIALIAS)\n",
        "            imResize.save(f\"{out_path}/{img}\", \"JPEG\", quality=100)\n",
        "    print(f\"***** Completed Resizing Images *****\")\n",
        "\n",
        "\n",
        "for label in os.listdir(main_path):\n",
        "    output_path = f\"{main_path+'_resized'}\"\n",
        "    directory(f\"{output_path}\")\n",
        "    resize_images(f\"{main_path}/{label}\", f\"{output_path}/{label}\")"
      ]
    },
    {
      "cell_type": "code",
      "execution_count": null,
      "id": "40f5b8e6",
      "metadata": {
        "id": "40f5b8e6"
      },
      "outputs": [],
      "source": [
        "import numpy as np\n",
        "import os\n",
        "from tensorflow.keras.preprocessing.image import img_to_array, load_img\n",
        "import pandas as pd\n",
        "\n",
        "COMPRESSED = True\n",
        "image_dataset_dir = r\"D:/18201142/dataset/OCT2017/test_resized\"\n",
        "new_dataset_folder = r\"C:/Users/18201142/Downloads/OCT2017/test_to_npz\" + \"_compressed\" if COMPRESSED else \"\"\n",
        "\n",
        "dataset = {\n",
        "    \"image\" :[],\n",
        "    \"label\" : []\n",
        "}\n",
        "\n",
        "for label in os.listdir(image_dataset_dir):\n",
        "    images_dir = f\"{image_dataset_dir}/{label}\"\n",
        "    if not os.path.isdir(images_dir):\n",
        "        continue\n",
        "    for image_file in os.listdir(images_dir):\n",
        "        if not image_file.endswith(\".jpeg\"):\n",
        "            continue\n",
        "        img = load_img(os.path.join(image_dataset_dir, label, image_file))\n",
        "        x = img_to_array(img)\n",
        "\n",
        "        rel_path = label + \"/\" + os.path.splitext(image_file)[0] + '.npz'\n",
        "        os.makedirs(new_dataset_folder + \"/\" + label, exist_ok=True)\n",
        "        npz_file = os.path.join(new_dataset_folder, rel_path)\n",
        "        # True: Compressed, False: UnCompressed\n",
        "        if COMPRESSED:\n",
        "            np.savez_compressed(npz_file, feature=x)\n",
        "        else:\n",
        "            np.savez(npz_file, x)\n",
        "        dataset[\"image\"].append(rel_path)\n",
        "        dataset[\"label\"].append(label)\n",
        "    print(f\"* Converted to {images_dir} `.npz`\")\n",
        "\n",
        "\n",
        "df = pd.DataFrame(dataset)\n",
        "df.to_csv(os.path.join(new_dataset_folder, \"test.csv\"), index=False)\n",
        "\n",
        "print('Dataset converted to npz and saved here at %s '%new_dataset_folder)\n",
        "\n",
        "df.head()"
      ]
    },
    {
      "cell_type": "markdown",
      "id": "08d277c0",
      "metadata": {
        "id": "08d277c0"
      },
      "source": [
        "## Splitting the dataset into Training and testing"
      ]
    },
    {
      "cell_type": "code",
      "execution_count": null,
      "id": "bf914454",
      "metadata": {
        "id": "bf914454",
        "outputId": "aa4aeb33-3469-4b43-dba7-20fc10d63457"
      },
      "outputs": [
        {
          "name": "stdout",
          "output_type": "stream",
          "text": [
            "* Visiting : `train_resized`\n",
            "* Visiting : `train_resized/CNV`\n",
            "* Visiting : `train_resized/DME`\n",
            "* Visiting : `train_resized/DRUSEN`\n",
            "* Visiting : `train_resized/NORMAL`\n",
            "X_train: (60000, 28, 28)\n",
            "y_train: (60000,)\n",
            "X_test: (0,)\n",
            "y_test: (0,)\n",
            "* Created `thesis-dataset.npz` in `C:/Users/18201142/Downloads/OCT`\n"
          ]
        }
      ],
      "source": [
        "from os import listdir, path\n",
        "\n",
        "import cv2\n",
        "import numpy as np\n",
        "\n",
        "# root_dir = \"/content/drive/MyDrive/Colab Notebook Files/OCT2017\"\n",
        "root_dir = \"D:/18201142/dataset/OCT\"\n",
        "out_dir = \"C:/Users/18201142/Downloads/OCT\"\n",
        "\n",
        "label_to_int = {\n",
        "    \"CNV\": 0,\n",
        "    \"DME\": 1,\n",
        "    \"DRUSEN\": 2,\n",
        "    \"NORMAL\": 3,\n",
        "}\n",
        "\n",
        "X_train = []\n",
        "y_train = []\n",
        "X_test = []\n",
        "y_test = []\n",
        "\n",
        "for target in listdir(root_dir):\n",
        "    # target: \"test\" or \"train\" directory\n",
        "    if not \"resized\" in target:\n",
        "        continue\n",
        "    dir_lvl_1 = f\"{root_dir}/{target}\"\n",
        "    print(f\"* Visiting : `{target}`\")\n",
        "    if path.isfile(dir_lvl_1):\n",
        "        continue\n",
        "    for label in listdir(dir_lvl_1):\n",
        "        # label: \"CNV\" or \"DME\" or \"DRUSEN\" or \"NORMAL\"\n",
        "        dir_lvl_2 = f\"{dir_lvl_1}/{label}\"\n",
        "        print(f\"* Visiting : `{target}/{label}`\")\n",
        "        for file in listdir(f\"{dir_lvl_2}\"):\n",
        "            # print(f\"* Reading : `{target}/{label}/{file}`\")\n",
        "            img = cv2.imread(f\"{dir_lvl_2}/{file}\", cv2.IMREAD_GRAYSCALE)\n",
        "            if \"test\" in target:\n",
        "                X_test.append(img)\n",
        "                y_test.append(label_to_int[label])\n",
        "            elif \"train\" in target:\n",
        "                X_train.append(img)\n",
        "                y_train.append(label_to_int[label])\n",
        "\n",
        "X_train = np.array(X_train, dtype=np.uint8)\n",
        "y_train = np.array(y_train, dtype=np.uint8)\n",
        "X_test = np.array(X_test, dtype=np.uint8)\n",
        "y_test = np.array(y_test, dtype=np.uint8)\n",
        "\n",
        "print(\"X_train:\", X_train.shape)\n",
        "print(\"y_train:\", y_train.shape)\n",
        "print(\"X_test:\", X_test.shape)\n",
        "print(\"y_test:\", y_test.shape)\n",
        "\n",
        "np.savez_compressed(out_dir + \"/thesis-dataset.npz\", X_train=X_train, y_train=y_train, X_test=X_test, y_test=y_test)\n",
        "print(f\"* Created `thesis-dataset.npz` in `{out_dir}`\")"
      ]
    },
    {
      "cell_type": "code",
      "execution_count": null,
      "id": "9a8357a8",
      "metadata": {
        "id": "9a8357a8",
        "outputId": "e80a2009-f6a5-413f-d75b-974775ab92ca"
      },
      "outputs": [
        {
          "name": "stdout",
          "output_type": "stream",
          "text": [
            "X_train (60000, 28, 28)\n",
            "y_train (60000,)\n",
            "X_test (0,)\n",
            "y_test (0,)\n"
          ]
        }
      ],
      "source": [
        "import numpy as np\n",
        "\n",
        "# root_dir = \"/content/drive/MyDrive/Colab Notebook Files/OCT2017\"\n",
        "root_dir = \"D:/18201142/dataset/OCT\"\n",
        "out_dir = \"C:/Users/18201142/Downloads/OCT\"\n",
        "\n",
        "data = np.load(out_dir + \"/thesis-dataset.npz\")\n",
        "for k, v in data.items():\n",
        "    print(k, data[k].shape)"
      ]
    },
    {
      "cell_type": "markdown",
      "id": "61c2e5d8",
      "metadata": {
        "id": "61c2e5d8"
      },
      "source": [
        "# Spliting the dataset "
      ]
    },
    {
      "cell_type": "code",
      "execution_count": null,
      "id": "16913bef",
      "metadata": {
        "id": "16913bef"
      },
      "outputs": [],
      "source": [
        "import glob\n",
        "import imageio\n",
        "import matplotlib.pyplot as plt\n",
        "import numpy as np\n",
        "import os\n",
        "import PIL\n",
        "from tensorflow.keras import layers\n",
        "import time\n",
        "import tensorflow as tf\n",
        "\n",
        "from IPython import display"
      ]
    },
    {
      "cell_type": "code",
      "execution_count": null,
      "id": "53c29709",
      "metadata": {
        "id": "53c29709",
        "outputId": "487391b0-ea2b-47d6-e280-5e8784e79066"
      },
      "outputs": [
        {
          "data": {
            "image/png": "[encoded data removed]",
            "text/plain": [
              "<Figure size 432x288 with 25 Axes>"
            ]
          },
          "metadata": {
            "needs_background": "light"
          },
          "output_type": "display_data"
        }
      ],
      "source": [
        "from matplotlib import pyplot\n",
        "\n",
        "train_img = data.get('X_train')\n",
        "\n",
        "for i in range(25):\n",
        "    pyplot.subplot(5,5,1+i)\n",
        "    pyplot.axis('off')\n",
        "    pyplot.imshow(train_img[i], cmap='gray')\n",
        "pyplot.show()"
      ]
    },
    {
      "cell_type": "code",
      "execution_count": null,
      "id": "0a55c13c",
      "metadata": {
        "id": "0a55c13c"
      },
      "outputs": [],
      "source": [
        "train_labels = data.get('y_train')"
      ]
    },
    {
      "cell_type": "code",
      "execution_count": null,
      "id": "3cd4a605",
      "metadata": {
        "id": "3cd4a605",
        "outputId": "0c102e3f-03d7-4caf-ab86-b1b454134826"
      },
      "outputs": [
        {
          "name": "stdout",
          "output_type": "stream",
          "text": [
            "<class 'numpy.ndarray'>\n"
          ]
        }
      ],
      "source": [
        "print(type(train_img))"
      ]
    },
    {
      "cell_type": "code",
      "execution_count": null,
      "id": "4a398948",
      "metadata": {
        "id": "4a398948",
        "outputId": "9e28977d-0067-446e-a2d3-6d8a1c079f08"
      },
      "outputs": [
        {
          "data": {
            "text/plain": [
              "(60000, 28, 28)"
            ]
          },
          "execution_count": 9,
          "metadata": {},
          "output_type": "execute_result"
        }
      ],
      "source": [
        "train_img.shape"
      ]
    },
    {
      "cell_type": "code",
      "execution_count": null,
      "id": "cea57dd3",
      "metadata": {
        "id": "cea57dd3"
      },
      "outputs": [],
      "source": [
        "train_img = train_img.reshape(train_img.shape[0],28,28,1).astype('float32')\n",
        "train_img = (train_img - 127.5)/127.5"
      ]
    },
    {
      "cell_type": "code",
      "execution_count": null,
      "id": "16112964",
      "metadata": {
        "id": "16112964",
        "outputId": "0f299c7d-f4f2-4606-cebf-c17979add072"
      },
      "outputs": [
        {
          "data": {
            "text/plain": [
              "(60000, 28, 28, 1)"
            ]
          },
          "execution_count": 11,
          "metadata": {},
          "output_type": "execute_result"
        }
      ],
      "source": [
        "train_img.shape"
      ]
    },
    {
      "cell_type": "code",
      "execution_count": null,
      "id": "f0620f7c",
      "metadata": {
        "id": "f0620f7c"
      },
      "outputs": [],
      "source": [
        "BUFFER_SIZE = 60000\n",
        "BATCH_SIZE = 256"
      ]
    },
    {
      "cell_type": "code",
      "execution_count": null,
      "id": "3141f976",
      "metadata": {
        "id": "3141f976"
      },
      "outputs": [],
      "source": [
        "# Batch and shuffle the data\n",
        "train_dataset = tf.data.Dataset.from_tensor_slices(train_img).shuffle(BUFFER_SIZE).batch(BATCH_SIZE)\n"
      ]
    },
    {
      "cell_type": "markdown",
      "id": "bc0203d5",
      "metadata": {
        "id": "bc0203d5"
      },
      "source": [
        "# The Generator "
      ]
    },
    {
      "cell_type": "markdown",
      "id": "94a83ad3",
      "metadata": {
        "id": "94a83ad3"
      },
      "source": [
        "- input 7*7*256 (low resolution version of the output image)\n",
        "- outputs a single 28×28 grayscale image\n",
        "- this generator takes a vector of size 100 and first reshape that into (7, 7, 128) vector then applied transpose \n",
        "- convolution in combination with batch normalization. "
      ]
    },
    {
      "cell_type": "code",
      "execution_count": null,
      "id": "bc9ab939",
      "metadata": {
        "id": "bc9ab939"
      },
      "outputs": [],
      "source": [
        "def make_generator_model():\n",
        "    model = tf.keras.Sequential()\n",
        "    model.add(layers.Dense(7*7*256, use_bias=False, input_shape=(100,)))\n",
        "    model.add(layers.BatchNormalization())\n",
        "    model.add(layers.LeakyReLU())\n",
        "\n",
        "    model.add(layers.Reshape((7, 7, 256)))\n",
        "    assert model.output_shape == (None, 7, 7, 256)  # Note: None is the batch size\n",
        "    model.add(layers.Conv2DTranspose(128, (5, 5), strides=(1, 1), padding='same', use_bias=False))\n",
        "    assert model.output_shape == (None, 7, 7, 128)\n",
        "    model.add(layers.BatchNormalization())\n",
        "    model.add(layers.LeakyReLU())\n",
        "\n",
        "   # upsample to 14x14\n",
        "    model.add(layers.Conv2DTranspose(64, (5, 5), strides=(2, 2), padding='same', use_bias=False))\n",
        "    assert model.output_shape == (None, 14, 14, 64)\n",
        "    model.add(layers.BatchNormalization())\n",
        "    model.add(layers.LeakyReLU())\n",
        "    \n",
        "    # upsample to 28x28\n",
        "    model.add(layers.Conv2DTranspose(1, (5, 5), strides=(2, 2), padding='same', use_bias=False, activation='tanh'))\n",
        "    assert model.output_shape == (None, 28, 28, 1)\n",
        "\n",
        "    return model"
      ]
    },
    {
      "cell_type": "code",
      "execution_count": null,
      "id": "c1ad545b",
      "metadata": {
        "id": "c1ad545b",
        "outputId": "338a68ca-5129-49e0-9500-457d03aea839"
      },
      "outputs": [
        {
          "data": {
            "text/plain": [
              "<matplotlib.image.AxesImage at 0x1c29c784190>"
            ]
          },
          "execution_count": 15,
          "metadata": {},
          "output_type": "execute_result"
        },
        {
          "data": {
            "image/png": "[encoded data removed]",
            "text/plain": [
              "<Figure size 432x288 with 1 Axes>"
            ]
          },
          "metadata": {
            "needs_background": "light"
          },
          "output_type": "display_data"
        }
      ],
      "source": [
        "generator = make_generator_model()\n",
        "\n",
        "noise = tf.random.normal([1, 100]) #latent space\n",
        "generated_image = generator(noise, training=False)\n",
        "\n",
        "plt.imshow(generated_image[0, :, :, 0], cmap='gray')"
      ]
    },
    {
      "cell_type": "markdown",
      "id": "147db273",
      "metadata": {
        "id": "147db273"
      },
      "source": [
        "# The Discriminator"
      ]
    },
    {
      "cell_type": "code",
      "execution_count": null,
      "id": "c0f99a2f",
      "metadata": {
        "id": "c0f99a2f"
      },
      "outputs": [],
      "source": [
        "def make_discriminator_model():\n",
        "    model = tf.keras.Sequential()\n",
        "    \n",
        "    model.add(layers.Conv2D(64, (5, 5), strides=(2, 2), padding='same',input_shape=[28, 28, 1])) #2×2 stride to downsample\n",
        "    model.add(layers.LeakyReLU())\n",
        "    model.add(layers.Dropout(0.3))\n",
        "\n",
        "    model.add(layers.Conv2D(128, (5, 5), strides=(2, 2), padding='same')) #downsampling  2×2 stride to downsample\n",
        "    model.add(layers.LeakyReLU())\n",
        "    model.add(layers.Dropout(0.3))\n",
        "\n",
        "    model.add(layers.Flatten())  # classifier real (class=1) or fake (class=0))\n",
        "    model.add(layers.Dense(1, activation='sigmoid'))\n",
        "\n",
        "    return model"
      ]
    },
    {
      "cell_type": "code",
      "execution_count": null,
      "id": "e5d57736",
      "metadata": {
        "id": "e5d57736",
        "outputId": "150041d5-fee7-4eb8-8f06-e79ba8ac0a76",
        "colab": {
          "base_uri": "https://localhost:8080/"
        }
      },
      "outputs": [
        {
          "output_type": "stream",
          "name": "stdout",
          "text": [
            "Model: \"sequential\"\n",
            "_________________________________________________________________\n",
            " Layer (type)                Output Shape              Param #   \n",
            "=================================================================\n",
            " conv2d (Conv2D)             (None, 14, 14, 64)        1664      \n",
            "                                                                 \n",
            " leaky_re_lu (LeakyReLU)     (None, 14, 14, 64)        0         \n",
            "                                                                 \n",
            " dropout (Dropout)           (None, 14, 14, 64)        0         \n",
            "                                                                 \n",
            " conv2d_1 (Conv2D)           (None, 7, 7, 128)         204928    \n",
            "                                                                 \n",
            " leaky_re_lu_1 (LeakyReLU)   (None, 7, 7, 128)         0         \n",
            "                                                                 \n",
            " dropout_1 (Dropout)         (None, 7, 7, 128)         0         \n",
            "                                                                 \n",
            " flatten (Flatten)           (None, 6272)              0         \n",
            "                                                                 \n",
            " dense (Dense)               (None, 1)                 6273      \n",
            "                                                                 \n",
            "=================================================================\n",
            "Total params: 212,865\n",
            "Trainable params: 212,865\n",
            "Non-trainable params: 0\n",
            "_________________________________________________________________\n"
          ]
        }
      ],
      "source": [
        "discriminator = make_discriminator_model()\n",
        "discriminator.summary()"
      ]
    },
    {
      "cell_type": "markdown",
      "id": "0562bf69",
      "metadata": {
        "id": "0562bf69"
      },
      "source": [
        "# The loss and optimizer"
      ]
    },
    {
      "cell_type": "code",
      "execution_count": null,
      "id": "f5b275e5",
      "metadata": {
        "id": "f5b275e5"
      },
      "outputs": [],
      "source": [
        "cross_entropy = tf.keras.losses.BinaryCrossentropy(from_logits=True)"
      ]
    },
    {
      "cell_type": "markdown",
      "id": "969fa94c",
      "metadata": {
        "id": "969fa94c"
      },
      "source": [
        "# Discriminator loss"
      ]
    },
    {
      "cell_type": "code",
      "execution_count": null,
      "id": "baa1f6d2",
      "metadata": {
        "id": "baa1f6d2"
      },
      "outputs": [],
      "source": [
        "def discriminator_loss(real_output, fake_output):\n",
        "    real_loss = cross_entropy(tf.ones_like(real_output), real_output)\n",
        "    fake_loss = cross_entropy(tf.zeros_like(fake_output), fake_output)\n",
        "    total_loss = real_loss + fake_loss\n",
        "    return total_loss"
      ]
    },
    {
      "cell_type": "markdown",
      "id": "582d6ef1",
      "metadata": {
        "id": "582d6ef1"
      },
      "source": [
        "# Genarator loss"
      ]
    },
    {
      "cell_type": "code",
      "execution_count": null,
      "id": "cfd6f170",
      "metadata": {
        "id": "cfd6f170"
      },
      "outputs": [],
      "source": [
        "def generator_loss(fake_output):\n",
        "    return cross_entropy(tf.ones_like(fake_output), fake_output)"
      ]
    },
    {
      "cell_type": "code",
      "execution_count": null,
      "id": "6923b4a3",
      "metadata": {
        "id": "6923b4a3"
      },
      "outputs": [],
      "source": [
        "generator_optimizer = tf.keras.optimizers.Adam(1e-4)\n",
        "discriminator_optimizer = tf.keras.optimizers.Adam(1e-4)"
      ]
    },
    {
      "cell_type": "code",
      "execution_count": null,
      "id": "6a6fc6e0",
      "metadata": {
        "id": "6a6fc6e0"
      },
      "outputs": [],
      "source": [
        "checkpoint_dir = './training_checkpoints'\n",
        "checkpoint_prefix = os.path.join(checkpoint_dir, \"ckpt\")\n",
        "checkpoint = tf.train.Checkpoint(generator_optimizer=generator_optimizer,\n",
        "                                 discriminator_optimizer=discriminator_optimizer,\n",
        "                                 generator=generator,\n",
        "                                 discriminator=discriminator)"
      ]
    },
    {
      "cell_type": "code",
      "execution_count": null,
      "id": "a82fa15e",
      "metadata": {
        "id": "a82fa15e"
      },
      "outputs": [],
      "source": [
        "EPOCHS = 100\n",
        "noise_dim = 100\n",
        "num_examples_to_generate = 16\n",
        "\n",
        "\n",
        "seed = tf.random.normal([num_examples_to_generate, noise_dim])"
      ]
    },
    {
      "cell_type": "code",
      "execution_count": null,
      "id": "5fc99d6a",
      "metadata": {
        "id": "5fc99d6a"
      },
      "outputs": [],
      "source": [
        "@tf.function\n",
        "def train_step(images):\n",
        "    noise = tf.random.normal([BATCH_SIZE, noise_dim])\n",
        "\n",
        "    with tf.GradientTape() as gen_tape, tf.GradientTape() as disc_tape:\n",
        "      generated_images = generator(noise, training=True)\n",
        "\n",
        "      real_output = discriminator(images, training=True)\n",
        "      fake_output = discriminator(generated_images, training=True)\n",
        "\n",
        "      gen_loss = generator_loss(fake_output)\n",
        "      disc_loss = discriminator_loss(real_output, fake_output)\n",
        "\n",
        "    gradients_of_generator = gen_tape.gradient(gen_loss, generator.trainable_variables)\n",
        "    gradients_of_discriminator = disc_tape.gradient(disc_loss, discriminator.trainable_variables)\n",
        "\n",
        "    generator_optimizer.apply_gradients(zip(gradients_of_generator, generator.trainable_variables))\n",
        "    discriminator_optimizer.apply_gradients(zip(gradients_of_discriminator, discriminator.trainable_variables))"
      ]
    },
    {
      "cell_type": "code",
      "execution_count": null,
      "id": "c82c133f",
      "metadata": {
        "id": "c82c133f"
      },
      "outputs": [],
      "source": [
        "def train(dataset, epochs):\n",
        "  for epoch in range(epochs):\n",
        "    start = time.time()\n",
        "\n",
        "    for image_batch in dataset:\n",
        "      train_step(image_batch)\n",
        "\n",
        "    # Produce images for the GIF \n",
        "    display.clear_output(wait=True)\n",
        "    generate_and_save_images(generator,\n",
        "                             epoch + 1,\n",
        "                             seed)\n",
        "\n",
        "    # Save the model every 15 epochs\n",
        "    if (epoch + 1) % 15 == 0:\n",
        "      checkpoint.save(file_prefix = checkpoint_prefix)\n",
        "\n",
        "    print ('Time for epoch {} is {} sec'.format(epoch + 1, time.time()-start))\n",
        "\n",
        "  # Generate after the final epoch\n",
        "  display.clear_output(wait=True)\n",
        "  generate_and_save_images(generator,\n",
        "                           epochs,\n",
        "                           seed)"
      ]
    },
    {
      "cell_type": "code",
      "execution_count": null,
      "id": "62e7ff0b",
      "metadata": {
        "id": "62e7ff0b"
      },
      "outputs": [],
      "source": [
        "def generate_and_save_images(model, epoch, test_input):\n",
        "  # Notice `training` is set to False.\n",
        "  # This is so all layers run in inference mode (batchnorm).\n",
        "  predictions = model(test_input, training=False)\n",
        "\n",
        "  fig = plt.figure(figsize=(4, 4))\n",
        "\n",
        "  for i in range(predictions.shape[0]):\n",
        "      plt.subplot(4, 4, i+1)\n",
        "      plt.imshow(predictions[i, :, :, 0] * 127.5 + 127.5, cmap='gray')\n",
        "      plt.axis('off')\n",
        "\n",
        "  plt.savefig('image_at_epoch_{:04d}.png'.format(epoch))\n",
        "  plt.show()"
      ]
    },
    {
      "cell_type": "markdown",
      "id": "790d68b2",
      "metadata": {
        "id": "790d68b2"
      },
      "source": [
        "# Train the model"
      ]
    },
    {
      "cell_type": "code",
      "execution_count": null,
      "id": "7873904d",
      "metadata": {
        "id": "7873904d",
        "outputId": "14d1a935-f663-4e25-8fcc-d6a24deecc6c"
      },
      "outputs": [
        {
          "data": {
            "image/png": "[encoded data removed]",
            "text/plain": [
              "<Figure size 288x288 with 16 Axes>"
            ]
          },
          "metadata": {
            "needs_background": "light"
          },
          "output_type": "display_data"
        }
      ],
      "source": [
        "train(train_dataset, EPOCHS)"
      ]
    },
    {
      "cell_type": "code",
      "execution_count": null,
      "id": "2c5d2de7",
      "metadata": {
        "id": "2c5d2de7",
        "outputId": "68128e32-2041-4128-96ab-d77596750f53"
      },
      "outputs": [
        {
          "data": {
            "text/plain": [
              "<tensorflow.python.training.tracking.util.CheckpointLoadStatus at 0x1c3c96b6ee0>"
            ]
          },
          "execution_count": 33,
          "metadata": {},
          "output_type": "execute_result"
        }
      ],
      "source": [
        "checkpoint.restore(tf.train.latest_checkpoint(checkpoint_dir))"
      ]
    },
    {
      "cell_type": "code",
      "execution_count": null,
      "id": "00b752f4",
      "metadata": {
        "id": "00b752f4"
      },
      "outputs": [],
      "source": [
        "def display_image(epoch_no):\n",
        "  return PIL.Image.open('image_at_epoch_{:04d}.png'.format(epoch_no))"
      ]
    },
    {
      "cell_type": "code",
      "execution_count": null,
      "id": "fd608037",
      "metadata": {
        "id": "fd608037",
        "outputId": "43004830-a7d3-4724-89be-243180f9b14d"
      },
      "outputs": [
        {
          "data": {
            "image/png": "[encoded data removed]",
            "text/plain": [
              "<PIL.PngImagePlugin.PngImageFile image mode=RGBA size=288x288>"
            ]
          },
          "execution_count": 37,
          "metadata": {},
          "output_type": "execute_result"
        }
      ],
      "source": [
        "display_image(10)"
      ]
    },
    {
      "cell_type": "code",
      "execution_count": null,
      "id": "466b1132",
      "metadata": {
        "id": "466b1132"
      },
      "outputs": [],
      "source": []
    }
  ],
  "metadata": {
    "kernelspec": {
      "display_name": "Python 3 (ipykernel)",
      "language": "python",
      "name": "python3"
    },
    "language_info": {
      "codemirror_mode": {
        "name": "ipython",
        "version": 3
      },
      "file_extension": ".py",
      "mimetype": "text/x-python",
      "name": "python",
      "nbconvert_exporter": "python",
      "pygments_lexer": "ipython3",
      "version": "3.9.12"
    },
    "colab": {
      "provenance": []
    }
  },
  "nbformat": 4,
  "nbformat_minor": 5
}